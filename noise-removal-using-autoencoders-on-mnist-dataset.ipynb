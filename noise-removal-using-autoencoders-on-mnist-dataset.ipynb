{
 "cells": [
  {
   "cell_type": "code",
   "execution_count": 1,
   "id": "fccb2742",
   "metadata": {
    "_cell_guid": "b1076dfc-b9ad-4769-8c92-a6c4dae69d19",
    "_uuid": "8f2839f25d086af736a60e9eeb907d3b93b6e0e5",
    "execution": {
     "iopub.execute_input": "2023-12-18T16:23:25.190820Z",
     "iopub.status.busy": "2023-12-18T16:23:25.190300Z",
     "iopub.status.idle": "2023-12-18T16:23:39.674501Z",
     "shell.execute_reply": "2023-12-18T16:23:39.673176Z"
    },
    "papermill": {
     "duration": 14.491967,
     "end_time": "2023-12-18T16:23:39.676990",
     "exception": false,
     "start_time": "2023-12-18T16:23:25.185023",
     "status": "completed"
    },
    "tags": []
   },
   "outputs": [],
   "source": [
    "import matplotlib.pyplot as plt\n",
    "import numpy as np\n",
    "import pandas as pd\n",
    "import tensorflow as tf\n",
    "\n",
    "from sklearn.model_selection import train_test_split\n",
    "from tensorflow.keras import layers,losses\n",
    "from tensorflow.keras.datasets import mnist\n",
    "from tensorflow.keras.models import Model"
   ]
  },
  {
   "cell_type": "code",
   "execution_count": 2,
   "id": "5148a615",
   "metadata": {
    "execution": {
     "iopub.execute_input": "2023-12-18T16:23:39.685286Z",
     "iopub.status.busy": "2023-12-18T16:23:39.684614Z",
     "iopub.status.idle": "2023-12-18T16:23:40.073625Z",
     "shell.execute_reply": "2023-12-18T16:23:40.072309Z"
    },
    "papermill": {
     "duration": 0.395723,
     "end_time": "2023-12-18T16:23:40.076162",
     "exception": false,
     "start_time": "2023-12-18T16:23:39.680439",
     "status": "completed"
    },
    "tags": []
   },
   "outputs": [
    {
     "name": "stdout",
     "output_type": "stream",
     "text": [
      "Downloading data from https://storage.googleapis.com/tensorflow/tf-keras-datasets/mnist.npz\n",
      "11490434/11490434 [==============================] - 0s 0us/step\n"
     ]
    }
   ],
   "source": [
    "# train_test_split\n",
    "(x_train, y_train),(x_test,y_test) = mnist.load_data()\n",
    "\n",
    "# scaling pixels in the range [0,1]\n",
    "x_train = x_train.astype('float32')/255. \n",
    "x_test = x_test.astype('float32')/255."
   ]
  },
  {
   "cell_type": "markdown",
   "id": "99667834",
   "metadata": {
    "papermill": {
     "duration": 0.002957,
     "end_time": "2023-12-18T16:23:40.082549",
     "exception": false,
     "start_time": "2023-12-18T16:23:40.079592",
     "status": "completed"
    },
    "tags": []
   },
   "source": [
    "**Plot the numbers**"
   ]
  },
  {
   "cell_type": "code",
   "execution_count": 3,
   "id": "8bb5b30f",
   "metadata": {
    "execution": {
     "iopub.execute_input": "2023-12-18T16:23:40.090625Z",
     "iopub.status.busy": "2023-12-18T16:23:40.090218Z",
     "iopub.status.idle": "2023-12-18T16:23:40.994820Z",
     "shell.execute_reply": "2023-12-18T16:23:40.993559Z"
    },
    "papermill": {
     "duration": 0.911812,
     "end_time": "2023-12-18T16:23:40.997497",
     "exception": false,
     "start_time": "2023-12-18T16:23:40.085685",
     "status": "completed"
    },
    "tags": []
   },
   "outputs": [
    {
     "data": {
      "image/png": "[encoded data removed]",
      "text/plain": [
       "<Figure size 2000x400 with 20 Axes>"
      ]
     },
     "metadata": {},
     "output_type": "display_data"
    }
   ],
   "source": [
    "import random\n",
    "n = 20\n",
    "plt.figure(figsize=(20,4))\n",
    "for i in range(0,n):\n",
    "    ax = plt.subplot(2,10,i+1) # 1 row ,n cols\n",
    "    i = random.randint(0, 60000-1)\n",
    "    plt.imshow(x_train[i])\n",
    "    plt.title('image')\n",
    "    plt.gray()\n",
    "    ax.get_xaxis().set_visible(False)\n",
    "    ax.get_yaxis().set_visible(False)"
   ]
  },
  {
   "cell_type": "code",
   "execution_count": 4,
   "id": "2686ca95",
   "metadata": {
    "execution": {
     "iopub.execute_input": "2023-12-18T16:23:41.006306Z",
     "iopub.status.busy": "2023-12-18T16:23:41.005875Z",
     "iopub.status.idle": "2023-12-18T16:23:41.118482Z",
     "shell.execute_reply": "2023-12-18T16:23:41.117137Z"
    },
    "papermill": {
     "duration": 0.119887,
     "end_time": "2023-12-18T16:23:41.120951",
     "exception": false,
     "start_time": "2023-12-18T16:23:41.001064",
     "status": "completed"
    },
    "tags": []
   },
   "outputs": [],
   "source": [
    "latent_dim = 64\n",
    "\n",
    "class Autoencoder(Model):\n",
    "    def __init__(self,latent_dim):\n",
    "        super(Autoencoder,self).__init__()\n",
    "        self.latent_dim = latent_dim\n",
    "        self.encoder = tf.keras.Sequential([\n",
    "            layers.Flatten(), # 784 (28*28)\n",
    "            layers.Dense(latent_dim, activation='relu'),\n",
    "        ])\n",
    "        self.decoder = tf.keras.Sequential([\n",
    "            layers.Dense(784,activation='sigmoid'),\n",
    "            layers.Reshape((28,28))\n",
    "        ])\n",
    "    def call(self,x):\n",
    "        encoded = self.encoder(x)\n",
    "        decoded = self.decoder(encoded)\n",
    "        return decoded\n",
    "autoencoder = Autoencoder(latent_dim)"
   ]
  },
  {
   "cell_type": "code",
   "execution_count": 5,
   "id": "b48fbfc2",
   "metadata": {
    "execution": {
     "iopub.execute_input": "2023-12-18T16:23:41.130474Z",
     "iopub.status.busy": "2023-12-18T16:23:41.129501Z",
     "iopub.status.idle": "2023-12-18T16:23:41.156402Z",
     "shell.execute_reply": "2023-12-18T16:23:41.155419Z"
    },
    "papermill": {
     "duration": 0.034346,
     "end_time": "2023-12-18T16:23:41.158949",
     "exception": false,
     "start_time": "2023-12-18T16:23:41.124603",
     "status": "completed"
    },
    "tags": []
   },
   "outputs": [],
   "source": [
    "autoencoder.compile(optimizer='adam',loss=losses.MeanSquaredError())"
   ]
  },
  {
   "cell_type": "code",
   "execution_count": 6,
   "id": "88965d69",
   "metadata": {
    "execution": {
     "iopub.execute_input": "2023-12-18T16:23:41.167814Z",
     "iopub.status.busy": "2023-12-18T16:23:41.167417Z",
     "iopub.status.idle": "2023-12-18T16:24:38.885002Z",
     "shell.execute_reply": "2023-12-18T16:24:38.883829Z"
    },
    "papermill": {
     "duration": 57.724766,
     "end_time": "2023-12-18T16:24:38.887429",
     "exception": false,
     "start_time": "2023-12-18T16:23:41.162663",
     "status": "completed"
    },
    "tags": []
   },
   "outputs": [
    {
     "name": "stdout",
     "output_type": "stream",
     "text": [
      "Epoch 1/10\n",
      "1875/1875 [==============================] - 7s 3ms/step - loss: 0.0241 - val_loss: 0.0095\n",
      "Epoch 2/10\n",
      "1875/1875 [==============================] - 6s 3ms/step - loss: 0.0070 - val_loss: 0.0053\n",
      "Epoch 3/10\n",
      "1875/1875 [==============================] - 6s 3ms/step - loss: 0.0050 - val_loss: 0.0045\n",
      "Epoch 4/10\n",
      "1875/1875 [==============================] - 6s 3ms/step - loss: 0.0045 - val_loss: 0.0043\n",
      "Epoch 5/10\n",
      "1875/1875 [==============================] - 6s 3ms/step - loss: 0.0043 - val_loss: 0.0042\n",
      "Epoch 6/10\n",
      "1875/1875 [==============================] - 5s 3ms/step - loss: 0.0042 - val_loss: 0.0041\n",
      "Epoch 7/10\n",
      "1875/1875 [==============================] - 6s 3ms/step - loss: 0.0041 - val_loss: 0.0040\n",
      "Epoch 8/10\n",
      "1875/1875 [==============================] - 5s 3ms/step - loss: 0.0041 - val_loss: 0.0039\n",
      "Epoch 9/10\n",
      "1875/1875 [==============================] - 6s 3ms/step - loss: 0.0040 - val_loss: 0.0039\n",
      "Epoch 10/10\n",
      "1875/1875 [==============================] - 6s 3ms/step - loss: 0.0040 - val_loss: 0.0039\n"
     ]
    },
    {
     "data": {
      "text/plain": [
       "<keras.src.callbacks.History at 0x7ce8b82a0910>"
      ]
     },
     "execution_count": 6,
     "metadata": {},
     "output_type": "execute_result"
    }
   ],
   "source": [
    "autoencoder.fit(x_train,x_train, epochs=10,shuffle=True,validation_data = (x_test,x_test))"
   ]
  },
  {
   "cell_type": "code",
   "execution_count": 7,
   "id": "0e7c7282",
   "metadata": {
    "execution": {
     "iopub.execute_input": "2023-12-18T16:24:39.014696Z",
     "iopub.status.busy": "2023-12-18T16:24:39.014323Z",
     "iopub.status.idle": "2023-12-18T16:24:39.031405Z",
     "shell.execute_reply": "2023-12-18T16:24:39.030064Z"
    },
    "papermill": {
     "duration": 0.0843,
     "end_time": "2023-12-18T16:24:39.034503",
     "exception": false,
     "start_time": "2023-12-18T16:24:38.950203",
     "status": "completed"
    },
    "tags": []
   },
   "outputs": [
    {
     "name": "stdout",
     "output_type": "stream",
     "text": [
      "Model: \"sequential\"\n",
      "_________________________________________________________________\n",
      " Layer (type)                Output Shape              Param #   \n",
      "=================================================================\n",
      " flatten (Flatten)           (None, 784)               0         \n",
      "                                                                 \n",
      " dense (Dense)               (None, 64)                50240     \n",
      "                                                                 \n",
      "=================================================================\n",
      "Total params: 50240 (196.25 KB)\n",
      "Trainable params: 50240 (196.25 KB)\n",
      "Non-trainable params: 0 (0.00 Byte)\n",
      "_________________________________________________________________\n"
     ]
    }
   ],
   "source": [
    "autoencoder.encoder.summary()"
   ]
  },
  {
   "cell_type": "code",
   "execution_count": 8,
   "id": "63093452",
   "metadata": {
    "execution": {
     "iopub.execute_input": "2023-12-18T16:24:39.215072Z",
     "iopub.status.busy": "2023-12-18T16:24:39.213950Z",
     "iopub.status.idle": "2023-12-18T16:24:39.232565Z",
     "shell.execute_reply": "2023-12-18T16:24:39.231407Z"
    },
    "papermill": {
     "duration": 0.083363,
     "end_time": "2023-12-18T16:24:39.234559",
     "exception": false,
     "start_time": "2023-12-18T16:24:39.151196",
     "status": "completed"
    },
    "tags": []
   },
   "outputs": [
    {
     "name": "stdout",
     "output_type": "stream",
     "text": [
      "Model: \"sequential_1\"\n",
      "_________________________________________________________________\n",
      " Layer (type)                Output Shape              Param #   \n",
      "=================================================================\n",
      " dense_1 (Dense)             (None, 784)               50960     \n",
      "                                                                 \n",
      " reshape (Reshape)           (None, 28, 28)            0         \n",
      "                                                                 \n",
      "=================================================================\n",
      "Total params: 50960 (199.06 KB)\n",
      "Trainable params: 50960 (199.06 KB)\n",
      "Non-trainable params: 0 (0.00 Byte)\n",
      "_________________________________________________________________\n"
     ]
    }
   ],
   "source": [
    "autoencoder.decoder.summary()"
   ]
  },
  {
   "cell_type": "code",
   "execution_count": 9,
   "id": "edecb8e6",
   "metadata": {
    "execution": {
     "iopub.execute_input": "2023-12-18T16:24:39.363870Z",
     "iopub.status.busy": "2023-12-18T16:24:39.363534Z",
     "iopub.status.idle": "2023-12-18T16:24:39.431724Z",
     "shell.execute_reply": "2023-12-18T16:24:39.430842Z"
    },
    "papermill": {
     "duration": 0.135898,
     "end_time": "2023-12-18T16:24:39.434551",
     "exception": false,
     "start_time": "2023-12-18T16:24:39.298653",
     "status": "completed"
    },
    "tags": []
   },
   "outputs": [],
   "source": [
    "encoded_imgs = autoencoder.encoder(x_test).numpy()\n",
    "decoded_imgs = autoencoder.decoder(encoded_imgs).numpy()"
   ]
  },
  {
   "cell_type": "code",
   "execution_count": 10,
   "id": "967dfb96",
   "metadata": {
    "execution": {
     "iopub.execute_input": "2023-12-18T16:24:39.563581Z",
     "iopub.status.busy": "2023-12-18T16:24:39.563198Z",
     "iopub.status.idle": "2023-12-18T16:24:40.233712Z",
     "shell.execute_reply": "2023-12-18T16:24:40.232824Z"
    },
    "papermill": {
     "duration": 0.736618,
     "end_time": "2023-12-18T16:24:40.235602",
     "exception": false,
     "start_time": "2023-12-18T16:24:39.498984",
     "status": "completed"
    },
    "tags": []
   },
   "outputs": [
    {
     "data": {
      "image/png": "[encoded data removed]",
      "text/plain": [
       "<Figure size 2000x400 with 20 Axes>"
      ]
     },
     "metadata": {},
     "output_type": "display_data"
    }
   ],
   "source": [
    "n = 10\n",
    "plt.figure(figsize=(20,4))\n",
    "for i in range(0,n):\n",
    "    ax = plt.subplot(2,n,i+1) # 1 row ,n cols\n",
    "    j = random.randint(0, 10000-1)\n",
    "    plt.imshow(x_test[j])\n",
    "    plt.title('original')\n",
    "    plt.gray()\n",
    "    ax.get_xaxis().set_visible(False)\n",
    "    ax.get_yaxis().set_visible(False)\n",
    "    \n",
    "    ax = plt.subplot(2,n,i+1+n) # 1 row ,n cols\n",
    "    plt.imshow(decoded_imgs[j])\n",
    "    plt.title('reconstructed')\n",
    "    plt.gray()\n",
    "    ax.get_xaxis().set_visible(False)\n",
    "    ax.get_yaxis().set_visible(False)"
   ]
  }
 ],
 "metadata": {
  "kaggle": {
   "accelerator": "none",
   "dataSources": [],
   "dockerImageVersionId": 30626,
   "isGpuEnabled": false,
   "isInternetEnabled": true,
   "language": "python",
   "sourceType": "notebook"
  },
  "kernelspec": {
   "display_name": "Python 3",
   "language": "python",
   "name": "python3"
  },
  "language_info": {
   "codemirror_mode": {
    "name": "ipython",
    "version": 3
   },
   "file_extension": ".py",
   "mimetype": "text/x-python",
   "name": "python",
   "nbconvert_exporter": "python",
   "pygments_lexer": "ipython3",
   "version": "3.10.12"
  },
  "papermill": {
   "default_parameters": {},
   "duration": 80.189338,
   "end_time": "2023-12-18T16:24:42.749061",
   "environment_variables": {},
   "exception": null,
   "input_path": "__notebook__.ipynb",
   "output_path": "__notebook__.ipynb",
   "parameters": {},
   "start_time": "2023-12-18T16:23:22.559723",
   "version": "2.4.0"
  }
 },
 "nbformat": 4,
 "nbformat_minor": 5
}
